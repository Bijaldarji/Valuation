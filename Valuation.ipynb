{
  "nbformat": 4,
  "nbformat_minor": 0,
  "metadata": {
    "colab": {
      "provenance": []
    },
    "kernelspec": {
      "name": "python3",
      "display_name": "Python 3"
    },
    "language_info": {
      "name": "python"
    }
  },
  "cells": [
    {
      "cell_type": "code",
      "source": [
        "import pandas as pd\n",
        "import numpy as np\n",
        "from sklearn.model_selection import train_test_split\n",
        "from sklearn.ensemble import RandomForestClassifier\n",
        "from sklearn.metrics import accuracy_score,confusion_matrix\n",
        "\n",
        "# Load the data\n",
        "data = pd.read_csv('/content/Data.csv')"
      ],
      "metadata": {
        "id": "mT2sjhcA3Jds"
      },
      "execution_count": 126,
      "outputs": []
    },
    {
      "cell_type": "code",
      "source": [
        "data"
      ],
      "metadata": {
        "colab": {
          "base_uri": "https://localhost:8080/",
          "height": 1000
        },
        "id": "F-DUKDzUBxVq",
        "outputId": "4dbb2285-580d-42c1-b609-794af5c4ed4b"
      },
      "execution_count": 127,
      "outputs": [
        {
          "output_type": "execute_result",
          "data": {
            "text/plain": [
              "     Season Number  Episode Number                  Episode Title  \\\n",
              "0                1               1    Badlegi Business Ki Tasveer   \n",
              "1                1               1    Badlegi Business Ki Tasveer   \n",
              "2                1               1    Badlegi Business Ki Tasveer   \n",
              "3                1               2        Insaan, Ideas Aur Sapne   \n",
              "4                1               2        Insaan, Ideas Aur Sapne   \n",
              "..             ...             ...                            ...   \n",
              "315              2              50  Season Finale With The Sharks   \n",
              "316              2              51    Gateway To Shark Tank India   \n",
              "317              2              51    Gateway To Shark Tank India   \n",
              "318              2              51    Gateway To Shark Tank India   \n",
              "319              2              51    Gateway To Shark Tank India   \n",
              "\n",
              "     Pitch Number      Startup Name                      Industry  \\\n",
              "0               1     BluePineFoods                          Food   \n",
              "1               2      BoozScooters  Vehicles/Electrical Vehicles   \n",
              "2               3  HeartUpMySleeves                Beauty/Fashion   \n",
              "3               4         TagzFoods                          Food   \n",
              "4               5      HeadAndHeart                     Education   \n",
              "..            ...               ...                           ...   \n",
              "315           316             MYBYK  Vehicles/Electrical Vehicles   \n",
              "316           317            GODESi                          Food   \n",
              "317           318               TAC                Beauty/Fashion   \n",
              "318           319        Naara-Aaba              Liquor/Beverages   \n",
              "319           320          StyloBug                Beauty/Fashion   \n",
              "\n",
              "                                  Business Description Pitchers Average Age  \\\n",
              "0                                         Frozen Momos               Middle   \n",
              "1        Renting e-bike for mobility in private spaces                Young   \n",
              "2                                   Detachable Sleeves                Young   \n",
              "3                          Healthy Potato Chips Snacks               Middle   \n",
              "4                             Brain Development Course               Middle   \n",
              "..                                                 ...                  ...   \n",
              "315                                  IoT-enabled bikes               Middle   \n",
              "316                                 Handmade lollipops               Middle   \n",
              "317  ayurveda co for glowing skin, makeup & open pores               Middle   \n",
              "318                                pears and plum wine               Middle   \n",
              "319                               Girls Dresses Online               Middle   \n",
              "\n",
              "    Pitchers City     Pitchers State  ...  Gross Margin  Original Ask Amount  \\\n",
              "0           Delhi              Delhi  ...           NaN                 50.0   \n",
              "1       Ahmedabad            Gujarat  ...           NaN                 40.0   \n",
              "2           Delhi              Delhi  ...           NaN                 25.0   \n",
              "3       Bangalore          Karnataka  ...          48.0                 70.0   \n",
              "4         Patiala             Punjab  ...           NaN                 50.0   \n",
              "..            ...                ...  ...           ...                  ...   \n",
              "315     Ahmedabad            Gujarat  ...           NaN                200.0   \n",
              "316     Bangalore          Karnataka  ...           NaN                 90.0   \n",
              "317        Mumbai        Maharashtra  ...           NaN                150.0   \n",
              "318          Ziro  Arunachal Pradesh  ...          50.0                 75.0   \n",
              "319         Delhi              Delhi  ...           NaN                 80.0   \n",
              "\n",
              "     Original Offered Equity  Valuation Requested  Received Offer  \\\n",
              "0                        5.0               1000.0               1   \n",
              "1                       15.0                267.0               1   \n",
              "2                       10.0                250.0               1   \n",
              "3                        1.0               7000.0               1   \n",
              "4                        5.0               1000.0               0   \n",
              "..                       ...                  ...             ...   \n",
              "315                      1.0              20000.0               0   \n",
              "316                      0.5              18000.0               1   \n",
              "317                      0.5              30000.0               1   \n",
              "318                      2.5               3000.0               1   \n",
              "319                      2.0               4000.0               1   \n",
              "\n",
              "     Accepted Offer  Total Deal Amount  Total Deal Equity  Deal Valuation  \\\n",
              "0               1.0               75.0              16.00           469.0   \n",
              "1               1.0               40.0              50.00            80.0   \n",
              "2               1.0               25.0              30.00            83.0   \n",
              "3               1.0               70.0               2.75          2545.0   \n",
              "4               NaN                NaN                NaN             NaN   \n",
              "..              ...                ...                ...             ...   \n",
              "315             NaN                NaN                NaN             NaN   \n",
              "316             0.0                NaN                NaN             NaN   \n",
              "317             1.0               81.0               1.00          8100.0   \n",
              "318             1.0               50.0               5.00          1000.0   \n",
              "319             1.0               80.0              10.00           800.0   \n",
              "\n",
              "     Number of sharks in deal  \n",
              "0                         3.0  \n",
              "1                         2.0  \n",
              "2                         2.0  \n",
              "3                         1.0  \n",
              "4                         NaN  \n",
              "..                        ...  \n",
              "315                       NaN  \n",
              "316                       NaN  \n",
              "317                       2.0  \n",
              "318                       2.0  \n",
              "319                       1.0  \n",
              "\n",
              "[320 rows x 22 columns]"
            ],
            "text/html": [
              "\n",
              "\n",
              "  <div id=\"df-304522bd-510a-4385-8b00-5644ee8e04da\">\n",
              "    <div class=\"colab-df-container\">\n",
              "      <div>\n",
              "<style scoped>\n",
              "    .dataframe tbody tr th:only-of-type {\n",
              "        vertical-align: middle;\n",
              "    }\n",
              "\n",
              "    .dataframe tbody tr th {\n",
              "        vertical-align: top;\n",
              "    }\n",
              "\n",
              "    .dataframe thead th {\n",
              "        text-align: right;\n",
              "    }\n",
              "</style>\n",
              "<table border=\"1\" class=\"dataframe\">\n",
              "  <thead>\n",
              "    <tr style=\"text-align: right;\">\n",
              "      <th></th>\n",
              "      <th>Season Number</th>\n",
              "      <th>Episode Number</th>\n",
              "      <th>Episode Title</th>\n",
              "      <th>Pitch Number</th>\n",
              "      <th>Startup Name</th>\n",
              "      <th>Industry</th>\n",
              "      <th>Business Description</th>\n",
              "      <th>Pitchers Average Age</th>\n",
              "      <th>Pitchers City</th>\n",
              "      <th>Pitchers State</th>\n",
              "      <th>...</th>\n",
              "      <th>Gross Margin</th>\n",
              "      <th>Original Ask Amount</th>\n",
              "      <th>Original Offered Equity</th>\n",
              "      <th>Valuation Requested</th>\n",
              "      <th>Received Offer</th>\n",
              "      <th>Accepted Offer</th>\n",
              "      <th>Total Deal Amount</th>\n",
              "      <th>Total Deal Equity</th>\n",
              "      <th>Deal Valuation</th>\n",
              "      <th>Number of sharks in deal</th>\n",
              "    </tr>\n",
              "  </thead>\n",
              "  <tbody>\n",
              "    <tr>\n",
              "      <th>0</th>\n",
              "      <td>1</td>\n",
              "      <td>1</td>\n",
              "      <td>Badlegi Business Ki Tasveer</td>\n",
              "      <td>1</td>\n",
              "      <td>BluePineFoods</td>\n",
              "      <td>Food</td>\n",
              "      <td>Frozen Momos</td>\n",
              "      <td>Middle</td>\n",
              "      <td>Delhi</td>\n",
              "      <td>Delhi</td>\n",
              "      <td>...</td>\n",
              "      <td>NaN</td>\n",
              "      <td>50.0</td>\n",
              "      <td>5.0</td>\n",
              "      <td>1000.0</td>\n",
              "      <td>1</td>\n",
              "      <td>1.0</td>\n",
              "      <td>75.0</td>\n",
              "      <td>16.00</td>\n",
              "      <td>469.0</td>\n",
              "      <td>3.0</td>\n",
              "    </tr>\n",
              "    <tr>\n",
              "      <th>1</th>\n",
              "      <td>1</td>\n",
              "      <td>1</td>\n",
              "      <td>Badlegi Business Ki Tasveer</td>\n",
              "      <td>2</td>\n",
              "      <td>BoozScooters</td>\n",
              "      <td>Vehicles/Electrical Vehicles</td>\n",
              "      <td>Renting e-bike for mobility in private spaces</td>\n",
              "      <td>Young</td>\n",
              "      <td>Ahmedabad</td>\n",
              "      <td>Gujarat</td>\n",
              "      <td>...</td>\n",
              "      <td>NaN</td>\n",
              "      <td>40.0</td>\n",
              "      <td>15.0</td>\n",
              "      <td>267.0</td>\n",
              "      <td>1</td>\n",
              "      <td>1.0</td>\n",
              "      <td>40.0</td>\n",
              "      <td>50.00</td>\n",
              "      <td>80.0</td>\n",
              "      <td>2.0</td>\n",
              "    </tr>\n",
              "    <tr>\n",
              "      <th>2</th>\n",
              "      <td>1</td>\n",
              "      <td>1</td>\n",
              "      <td>Badlegi Business Ki Tasveer</td>\n",
              "      <td>3</td>\n",
              "      <td>HeartUpMySleeves</td>\n",
              "      <td>Beauty/Fashion</td>\n",
              "      <td>Detachable Sleeves</td>\n",
              "      <td>Young</td>\n",
              "      <td>Delhi</td>\n",
              "      <td>Delhi</td>\n",
              "      <td>...</td>\n",
              "      <td>NaN</td>\n",
              "      <td>25.0</td>\n",
              "      <td>10.0</td>\n",
              "      <td>250.0</td>\n",
              "      <td>1</td>\n",
              "      <td>1.0</td>\n",
              "      <td>25.0</td>\n",
              "      <td>30.00</td>\n",
              "      <td>83.0</td>\n",
              "      <td>2.0</td>\n",
              "    </tr>\n",
              "    <tr>\n",
              "      <th>3</th>\n",
              "      <td>1</td>\n",
              "      <td>2</td>\n",
              "      <td>Insaan, Ideas Aur Sapne</td>\n",
              "      <td>4</td>\n",
              "      <td>TagzFoods</td>\n",
              "      <td>Food</td>\n",
              "      <td>Healthy Potato Chips Snacks</td>\n",
              "      <td>Middle</td>\n",
              "      <td>Bangalore</td>\n",
              "      <td>Karnataka</td>\n",
              "      <td>...</td>\n",
              "      <td>48.0</td>\n",
              "      <td>70.0</td>\n",
              "      <td>1.0</td>\n",
              "      <td>7000.0</td>\n",
              "      <td>1</td>\n",
              "      <td>1.0</td>\n",
              "      <td>70.0</td>\n",
              "      <td>2.75</td>\n",
              "      <td>2545.0</td>\n",
              "      <td>1.0</td>\n",
              "    </tr>\n",
              "    <tr>\n",
              "      <th>4</th>\n",
              "      <td>1</td>\n",
              "      <td>2</td>\n",
              "      <td>Insaan, Ideas Aur Sapne</td>\n",
              "      <td>5</td>\n",
              "      <td>HeadAndHeart</td>\n",
              "      <td>Education</td>\n",
              "      <td>Brain Development Course</td>\n",
              "      <td>Middle</td>\n",
              "      <td>Patiala</td>\n",
              "      <td>Punjab</td>\n",
              "      <td>...</td>\n",
              "      <td>NaN</td>\n",
              "      <td>50.0</td>\n",
              "      <td>5.0</td>\n",
              "      <td>1000.0</td>\n",
              "      <td>0</td>\n",
              "      <td>NaN</td>\n",
              "      <td>NaN</td>\n",
              "      <td>NaN</td>\n",
              "      <td>NaN</td>\n",
              "      <td>NaN</td>\n",
              "    </tr>\n",
              "    <tr>\n",
              "      <th>...</th>\n",
              "      <td>...</td>\n",
              "      <td>...</td>\n",
              "      <td>...</td>\n",
              "      <td>...</td>\n",
              "      <td>...</td>\n",
              "      <td>...</td>\n",
              "      <td>...</td>\n",
              "      <td>...</td>\n",
              "      <td>...</td>\n",
              "      <td>...</td>\n",
              "      <td>...</td>\n",
              "      <td>...</td>\n",
              "      <td>...</td>\n",
              "      <td>...</td>\n",
              "      <td>...</td>\n",
              "      <td>...</td>\n",
              "      <td>...</td>\n",
              "      <td>...</td>\n",
              "      <td>...</td>\n",
              "      <td>...</td>\n",
              "      <td>...</td>\n",
              "    </tr>\n",
              "    <tr>\n",
              "      <th>315</th>\n",
              "      <td>2</td>\n",
              "      <td>50</td>\n",
              "      <td>Season Finale With The Sharks</td>\n",
              "      <td>316</td>\n",
              "      <td>MYBYK</td>\n",
              "      <td>Vehicles/Electrical Vehicles</td>\n",
              "      <td>IoT-enabled bikes</td>\n",
              "      <td>Middle</td>\n",
              "      <td>Ahmedabad</td>\n",
              "      <td>Gujarat</td>\n",
              "      <td>...</td>\n",
              "      <td>NaN</td>\n",
              "      <td>200.0</td>\n",
              "      <td>1.0</td>\n",
              "      <td>20000.0</td>\n",
              "      <td>0</td>\n",
              "      <td>NaN</td>\n",
              "      <td>NaN</td>\n",
              "      <td>NaN</td>\n",
              "      <td>NaN</td>\n",
              "      <td>NaN</td>\n",
              "    </tr>\n",
              "    <tr>\n",
              "      <th>316</th>\n",
              "      <td>2</td>\n",
              "      <td>51</td>\n",
              "      <td>Gateway To Shark Tank India</td>\n",
              "      <td>317</td>\n",
              "      <td>GODESi</td>\n",
              "      <td>Food</td>\n",
              "      <td>Handmade lollipops</td>\n",
              "      <td>Middle</td>\n",
              "      <td>Bangalore</td>\n",
              "      <td>Karnataka</td>\n",
              "      <td>...</td>\n",
              "      <td>NaN</td>\n",
              "      <td>90.0</td>\n",
              "      <td>0.5</td>\n",
              "      <td>18000.0</td>\n",
              "      <td>1</td>\n",
              "      <td>0.0</td>\n",
              "      <td>NaN</td>\n",
              "      <td>NaN</td>\n",
              "      <td>NaN</td>\n",
              "      <td>NaN</td>\n",
              "    </tr>\n",
              "    <tr>\n",
              "      <th>317</th>\n",
              "      <td>2</td>\n",
              "      <td>51</td>\n",
              "      <td>Gateway To Shark Tank India</td>\n",
              "      <td>318</td>\n",
              "      <td>TAC</td>\n",
              "      <td>Beauty/Fashion</td>\n",
              "      <td>ayurveda co for glowing skin, makeup &amp; open pores</td>\n",
              "      <td>Middle</td>\n",
              "      <td>Mumbai</td>\n",
              "      <td>Maharashtra</td>\n",
              "      <td>...</td>\n",
              "      <td>NaN</td>\n",
              "      <td>150.0</td>\n",
              "      <td>0.5</td>\n",
              "      <td>30000.0</td>\n",
              "      <td>1</td>\n",
              "      <td>1.0</td>\n",
              "      <td>81.0</td>\n",
              "      <td>1.00</td>\n",
              "      <td>8100.0</td>\n",
              "      <td>2.0</td>\n",
              "    </tr>\n",
              "    <tr>\n",
              "      <th>318</th>\n",
              "      <td>2</td>\n",
              "      <td>51</td>\n",
              "      <td>Gateway To Shark Tank India</td>\n",
              "      <td>319</td>\n",
              "      <td>Naara-Aaba</td>\n",
              "      <td>Liquor/Beverages</td>\n",
              "      <td>pears and plum wine</td>\n",
              "      <td>Middle</td>\n",
              "      <td>Ziro</td>\n",
              "      <td>Arunachal Pradesh</td>\n",
              "      <td>...</td>\n",
              "      <td>50.0</td>\n",
              "      <td>75.0</td>\n",
              "      <td>2.5</td>\n",
              "      <td>3000.0</td>\n",
              "      <td>1</td>\n",
              "      <td>1.0</td>\n",
              "      <td>50.0</td>\n",
              "      <td>5.00</td>\n",
              "      <td>1000.0</td>\n",
              "      <td>2.0</td>\n",
              "    </tr>\n",
              "    <tr>\n",
              "      <th>319</th>\n",
              "      <td>2</td>\n",
              "      <td>51</td>\n",
              "      <td>Gateway To Shark Tank India</td>\n",
              "      <td>320</td>\n",
              "      <td>StyloBug</td>\n",
              "      <td>Beauty/Fashion</td>\n",
              "      <td>Girls Dresses Online</td>\n",
              "      <td>Middle</td>\n",
              "      <td>Delhi</td>\n",
              "      <td>Delhi</td>\n",
              "      <td>...</td>\n",
              "      <td>NaN</td>\n",
              "      <td>80.0</td>\n",
              "      <td>2.0</td>\n",
              "      <td>4000.0</td>\n",
              "      <td>1</td>\n",
              "      <td>1.0</td>\n",
              "      <td>80.0</td>\n",
              "      <td>10.00</td>\n",
              "      <td>800.0</td>\n",
              "      <td>1.0</td>\n",
              "    </tr>\n",
              "  </tbody>\n",
              "</table>\n",
              "<p>320 rows × 22 columns</p>\n",
              "</div>\n",
              "      <button class=\"colab-df-convert\" onclick=\"convertToInteractive('df-304522bd-510a-4385-8b00-5644ee8e04da')\"\n",
              "              title=\"Convert this dataframe to an interactive table.\"\n",
              "              style=\"display:none;\">\n",
              "\n",
              "  <svg xmlns=\"http://www.w3.org/2000/svg\" height=\"24px\"viewBox=\"0 0 24 24\"\n",
              "       width=\"24px\">\n",
              "    <path d=\"M0 0h24v24H0V0z\" fill=\"none\"/>\n",
              "    <path d=\"M18.56 5.44l.94 2.06.94-2.06 2.06-.94-2.06-.94-.94-2.06-.94 2.06-2.06.94zm-11 1L8.5 8.5l.94-2.06 2.06-.94-2.06-.94L8.5 2.5l-.94 2.06-2.06.94zm10 10l.94 2.06.94-2.06 2.06-.94-2.06-.94-.94-2.06-.94 2.06-2.06.94z\"/><path d=\"M17.41 7.96l-1.37-1.37c-.4-.4-.92-.59-1.43-.59-.52 0-1.04.2-1.43.59L10.3 9.45l-7.72 7.72c-.78.78-.78 2.05 0 2.83L4 21.41c.39.39.9.59 1.41.59.51 0 1.02-.2 1.41-.59l7.78-7.78 2.81-2.81c.8-.78.8-2.07 0-2.86zM5.41 20L4 18.59l7.72-7.72 1.47 1.35L5.41 20z\"/>\n",
              "  </svg>\n",
              "      </button>\n",
              "\n",
              "\n",
              "\n",
              "    <div id=\"df-39db174e-115d-4247-92d0-795cfb0a84dc\">\n",
              "      <button class=\"colab-df-quickchart\" onclick=\"quickchart('df-39db174e-115d-4247-92d0-795cfb0a84dc')\"\n",
              "              title=\"Suggest charts.\"\n",
              "              style=\"display:none;\">\n",
              "\n",
              "<svg xmlns=\"http://www.w3.org/2000/svg\" height=\"24px\"viewBox=\"0 0 24 24\"\n",
              "     width=\"24px\">\n",
              "    <g>\n",
              "        <path d=\"M19 3H5c-1.1 0-2 .9-2 2v14c0 1.1.9 2 2 2h14c1.1 0 2-.9 2-2V5c0-1.1-.9-2-2-2zM9 17H7v-7h2v7zm4 0h-2V7h2v10zm4 0h-2v-4h2v4z\"/>\n",
              "    </g>\n",
              "</svg>\n",
              "      </button>\n",
              "    </div>\n",
              "\n",
              "<style>\n",
              "  .colab-df-quickchart {\n",
              "    background-color: #E8F0FE;\n",
              "    border: none;\n",
              "    border-radius: 50%;\n",
              "    cursor: pointer;\n",
              "    display: none;\n",
              "    fill: #1967D2;\n",
              "    height: 32px;\n",
              "    padding: 0 0 0 0;\n",
              "    width: 32px;\n",
              "  }\n",
              "\n",
              "  .colab-df-quickchart:hover {\n",
              "    background-color: #E2EBFA;\n",
              "    box-shadow: 0px 1px 2px rgba(60, 64, 67, 0.3), 0px 1px 3px 1px rgba(60, 64, 67, 0.15);\n",
              "    fill: #174EA6;\n",
              "  }\n",
              "\n",
              "  [theme=dark] .colab-df-quickchart {\n",
              "    background-color: #3B4455;\n",
              "    fill: #D2E3FC;\n",
              "  }\n",
              "\n",
              "  [theme=dark] .colab-df-quickchart:hover {\n",
              "    background-color: #434B5C;\n",
              "    box-shadow: 0px 1px 3px 1px rgba(0, 0, 0, 0.15);\n",
              "    filter: drop-shadow(0px 1px 2px rgba(0, 0, 0, 0.3));\n",
              "    fill: #FFFFFF;\n",
              "  }\n",
              "</style>\n",
              "\n",
              "    <script>\n",
              "      async function quickchart(key) {\n",
              "        const containerElement = document.querySelector('#' + key);\n",
              "        const charts = await google.colab.kernel.invokeFunction(\n",
              "            'suggestCharts', [key], {});\n",
              "      }\n",
              "    </script>\n",
              "\n",
              "      <script>\n",
              "\n",
              "function displayQuickchartButton(domScope) {\n",
              "  let quickchartButtonEl =\n",
              "    domScope.querySelector('#df-39db174e-115d-4247-92d0-795cfb0a84dc button.colab-df-quickchart');\n",
              "  quickchartButtonEl.style.display =\n",
              "    google.colab.kernel.accessAllowed ? 'block' : 'none';\n",
              "}\n",
              "\n",
              "        displayQuickchartButton(document);\n",
              "      </script>\n",
              "      <style>\n",
              "    .colab-df-container {\n",
              "      display:flex;\n",
              "      flex-wrap:wrap;\n",
              "      gap: 12px;\n",
              "    }\n",
              "\n",
              "    .colab-df-convert {\n",
              "      background-color: #E8F0FE;\n",
              "      border: none;\n",
              "      border-radius: 50%;\n",
              "      cursor: pointer;\n",
              "      display: none;\n",
              "      fill: #1967D2;\n",
              "      height: 32px;\n",
              "      padding: 0 0 0 0;\n",
              "      width: 32px;\n",
              "    }\n",
              "\n",
              "    .colab-df-convert:hover {\n",
              "      background-color: #E2EBFA;\n",
              "      box-shadow: 0px 1px 2px rgba(60, 64, 67, 0.3), 0px 1px 3px 1px rgba(60, 64, 67, 0.15);\n",
              "      fill: #174EA6;\n",
              "    }\n",
              "\n",
              "    [theme=dark] .colab-df-convert {\n",
              "      background-color: #3B4455;\n",
              "      fill: #D2E3FC;\n",
              "    }\n",
              "\n",
              "    [theme=dark] .colab-df-convert:hover {\n",
              "      background-color: #434B5C;\n",
              "      box-shadow: 0px 1px 3px 1px rgba(0, 0, 0, 0.15);\n",
              "      filter: drop-shadow(0px 1px 2px rgba(0, 0, 0, 0.3));\n",
              "      fill: #FFFFFF;\n",
              "    }\n",
              "  </style>\n",
              "\n",
              "      <script>\n",
              "        const buttonEl =\n",
              "          document.querySelector('#df-304522bd-510a-4385-8b00-5644ee8e04da button.colab-df-convert');\n",
              "        buttonEl.style.display =\n",
              "          google.colab.kernel.accessAllowed ? 'block' : 'none';\n",
              "\n",
              "        async function convertToInteractive(key) {\n",
              "          const element = document.querySelector('#df-304522bd-510a-4385-8b00-5644ee8e04da');\n",
              "          const dataTable =\n",
              "            await google.colab.kernel.invokeFunction('convertToInteractive',\n",
              "                                                     [key], {});\n",
              "          if (!dataTable) return;\n",
              "\n",
              "          const docLinkHtml = 'Like what you see? Visit the ' +\n",
              "            '<a target=\"_blank\" href=https://colab.research.google.com/notebooks/data_table.ipynb>data table notebook</a>'\n",
              "            + ' to learn more about interactive tables.';\n",
              "          element.innerHTML = '';\n",
              "          dataTable['output_type'] = 'display_data';\n",
              "          await google.colab.output.renderOutput(dataTable, element);\n",
              "          const docLink = document.createElement('div');\n",
              "          docLink.innerHTML = docLinkHtml;\n",
              "          element.appendChild(docLink);\n",
              "        }\n",
              "      </script>\n",
              "    </div>\n",
              "  </div>\n"
            ]
          },
          "metadata": {},
          "execution_count": 127
        }
      ]
    },
    {
      "cell_type": "code",
      "source": [
        "data.columns"
      ],
      "metadata": {
        "colab": {
          "base_uri": "https://localhost:8080/"
        },
        "id": "zT1SENJEfuVj",
        "outputId": "82dd530f-4907-44f4-95df-c8f2721fa066"
      },
      "execution_count": 128,
      "outputs": [
        {
          "output_type": "execute_result",
          "data": {
            "text/plain": [
              "Index(['Season Number', 'Episode Number', 'Episode Title', 'Pitch Number',\n",
              "       'Startup Name', 'Industry', 'Business Description',\n",
              "       'Pitchers Average Age', 'Pitchers City', 'Pitchers State',\n",
              "       'Yearly Revenue', 'Monthly Sales', 'Gross Margin',\n",
              "       'Original Ask Amount', 'Original Offered Equity', 'Valuation Requested',\n",
              "       'Received Offer', 'Accepted Offer', 'Total Deal Amount',\n",
              "       'Total Deal Equity', 'Deal Valuation', 'Number of sharks in deal'],\n",
              "      dtype='object')"
            ]
          },
          "metadata": {},
          "execution_count": 128
        }
      ]
    },
    {
      "cell_type": "code",
      "source": [
        "data.isnull().sum()"
      ],
      "metadata": {
        "colab": {
          "base_uri": "https://localhost:8080/"
        },
        "id": "RMMHpwHiCCQW",
        "outputId": "ce0a15f1-9dd0-435a-ed82-4e70a357699d"
      },
      "execution_count": 129,
      "outputs": [
        {
          "output_type": "execute_result",
          "data": {
            "text/plain": [
              "Season Number                 0\n",
              "Episode Number                0\n",
              "Episode Title                 0\n",
              "Pitch Number                  0\n",
              "Startup Name                  0\n",
              "Industry                      0\n",
              "Business Description          0\n",
              "Pitchers Average Age          0\n",
              "Pitchers City                 0\n",
              "Pitchers State                0\n",
              "Yearly Revenue              186\n",
              "Monthly Sales               180\n",
              "Gross Margin                235\n",
              "Original Ask Amount           0\n",
              "Original Offered Equity       0\n",
              "Valuation Requested           0\n",
              "Received Offer                0\n",
              "Accepted Offer              104\n",
              "Total Deal Amount           144\n",
              "Total Deal Equity           144\n",
              "Deal Valuation              144\n",
              "Number of sharks in deal    144\n",
              "dtype: int64"
            ]
          },
          "metadata": {},
          "execution_count": 129
        }
      ]
    },
    {
      "cell_type": "code",
      "source": [
        "mean=data['Monthly Sales'].mean()"
      ],
      "metadata": {
        "id": "hmbN3TOpMANA"
      },
      "execution_count": 130,
      "outputs": []
    },
    {
      "cell_type": "code",
      "source": [
        "data['Monthly Sales'].fillna(mean, inplace=True)"
      ],
      "metadata": {
        "id": "-nF0bJY3JBdv"
      },
      "execution_count": 131,
      "outputs": []
    },
    {
      "cell_type": "code",
      "source": [
        "mean1=data['Yearly Revenue'].mean()"
      ],
      "metadata": {
        "id": "WXlwLQmCPXDr"
      },
      "execution_count": 132,
      "outputs": []
    },
    {
      "cell_type": "code",
      "source": [
        "data['Yearly Revenue'].fillna(mean1, inplace=True)"
      ],
      "metadata": {
        "id": "GPPU8zOhPPd8"
      },
      "execution_count": 133,
      "outputs": []
    },
    {
      "cell_type": "code",
      "source": [
        "data['Monthly Sales'].isnull().sum()"
      ],
      "metadata": {
        "colab": {
          "base_uri": "https://localhost:8080/"
        },
        "id": "-KBn2brfMuw_",
        "outputId": "1f987f48-8ccf-4769-9a69-7ad64b178865"
      },
      "execution_count": 134,
      "outputs": [
        {
          "output_type": "execute_result",
          "data": {
            "text/plain": [
              "0"
            ]
          },
          "metadata": {},
          "execution_count": 134
        }
      ]
    },
    {
      "cell_type": "code",
      "source": [
        "data['Yearly Revenue'].isnull().sum()"
      ],
      "metadata": {
        "colab": {
          "base_uri": "https://localhost:8080/"
        },
        "id": "WjiEQ22jTWJR",
        "outputId": "51759d99-7344-474e-8b1a-7e23840c4c41"
      },
      "execution_count": 135,
      "outputs": [
        {
          "output_type": "execute_result",
          "data": {
            "text/plain": [
              "0"
            ]
          },
          "metadata": {},
          "execution_count": 135
        }
      ]
    },
    {
      "cell_type": "code",
      "source": [
        "data['Gross Margin'].fillna(data['Gross Margin'].mean(), inplace=True)"
      ],
      "metadata": {
        "id": "-Ku4X-N3US5B"
      },
      "execution_count": 136,
      "outputs": []
    },
    {
      "cell_type": "code",
      "source": [
        "data['Gross Margin'].isnull().sum()"
      ],
      "metadata": {
        "colab": {
          "base_uri": "https://localhost:8080/"
        },
        "id": "6q3kG9a4UrN5",
        "outputId": "0cc5bbb4-2c6e-448b-ba93-2d804a7237de"
      },
      "execution_count": 137,
      "outputs": [
        {
          "output_type": "execute_result",
          "data": {
            "text/plain": [
              "0"
            ]
          },
          "metadata": {},
          "execution_count": 137
        }
      ]
    },
    {
      "cell_type": "code",
      "source": [
        "data['Accepted Offer'].fillna(data['Accepted Offer'].mean(),inplace=True)"
      ],
      "metadata": {
        "id": "ZsBMi2oyUzgJ"
      },
      "execution_count": 138,
      "outputs": []
    },
    {
      "cell_type": "code",
      "source": [
        "data['Total Deal Amount'].fillna(data['Total Deal Amount'].mean(),inplace=True)"
      ],
      "metadata": {
        "id": "z8H-B9LpVG8W"
      },
      "execution_count": 139,
      "outputs": []
    },
    {
      "cell_type": "code",
      "source": [
        "data['Total Deal Equity'].fillna(data['Total Deal Equity'].mean(),inplace=True)"
      ],
      "metadata": {
        "id": "n4_bxL8WVGtj"
      },
      "execution_count": 140,
      "outputs": []
    },
    {
      "cell_type": "code",
      "source": [
        "data['Deal Valuation'].fillna(data['Deal Valuation'].mean(), inplace=True)"
      ],
      "metadata": {
        "id": "JB86nVeDVUjR"
      },
      "execution_count": 141,
      "outputs": []
    },
    {
      "cell_type": "code",
      "source": [
        "data['Number of sharks in deal'].fillna(data['Number of sharks in deal'].mean(),inplace=True)"
      ],
      "metadata": {
        "id": "QVs9m0RdVUf0"
      },
      "execution_count": 142,
      "outputs": []
    },
    {
      "cell_type": "code",
      "source": [
        "data.isnull().sum()"
      ],
      "metadata": {
        "colab": {
          "base_uri": "https://localhost:8080/"
        },
        "id": "7hrFExiYMKAo",
        "outputId": "32eb5add-a0ff-4eb3-a4c4-2d48884ea337"
      },
      "execution_count": 143,
      "outputs": [
        {
          "output_type": "execute_result",
          "data": {
            "text/plain": [
              "Season Number               0\n",
              "Episode Number              0\n",
              "Episode Title               0\n",
              "Pitch Number                0\n",
              "Startup Name                0\n",
              "Industry                    0\n",
              "Business Description        0\n",
              "Pitchers Average Age        0\n",
              "Pitchers City               0\n",
              "Pitchers State              0\n",
              "Yearly Revenue              0\n",
              "Monthly Sales               0\n",
              "Gross Margin                0\n",
              "Original Ask Amount         0\n",
              "Original Offered Equity     0\n",
              "Valuation Requested         0\n",
              "Received Offer              0\n",
              "Accepted Offer              0\n",
              "Total Deal Amount           0\n",
              "Total Deal Equity           0\n",
              "Deal Valuation              0\n",
              "Number of sharks in deal    0\n",
              "dtype: int64"
            ]
          },
          "metadata": {},
          "execution_count": 143
        }
      ]
    },
    {
      "cell_type": "code",
      "source": [
        "data"
      ],
      "metadata": {
        "colab": {
          "base_uri": "https://localhost:8080/",
          "height": 1000
        },
        "id": "7QgsOtn0W66r",
        "outputId": "ab1ccacc-02df-4a2e-ea24-c71d764b82f6"
      },
      "execution_count": 144,
      "outputs": [
        {
          "output_type": "execute_result",
          "data": {
            "text/plain": [
              "     Season Number  Episode Number                  Episode Title  \\\n",
              "0                1               1    Badlegi Business Ki Tasveer   \n",
              "1                1               1    Badlegi Business Ki Tasveer   \n",
              "2                1               1    Badlegi Business Ki Tasveer   \n",
              "3                1               2        Insaan, Ideas Aur Sapne   \n",
              "4                1               2        Insaan, Ideas Aur Sapne   \n",
              "..             ...             ...                            ...   \n",
              "315              2              50  Season Finale With The Sharks   \n",
              "316              2              51    Gateway To Shark Tank India   \n",
              "317              2              51    Gateway To Shark Tank India   \n",
              "318              2              51    Gateway To Shark Tank India   \n",
              "319              2              51    Gateway To Shark Tank India   \n",
              "\n",
              "     Pitch Number      Startup Name                      Industry  \\\n",
              "0               1     BluePineFoods                          Food   \n",
              "1               2      BoozScooters  Vehicles/Electrical Vehicles   \n",
              "2               3  HeartUpMySleeves                Beauty/Fashion   \n",
              "3               4         TagzFoods                          Food   \n",
              "4               5      HeadAndHeart                     Education   \n",
              "..            ...               ...                           ...   \n",
              "315           316             MYBYK  Vehicles/Electrical Vehicles   \n",
              "316           317            GODESi                          Food   \n",
              "317           318               TAC                Beauty/Fashion   \n",
              "318           319        Naara-Aaba              Liquor/Beverages   \n",
              "319           320          StyloBug                Beauty/Fashion   \n",
              "\n",
              "                                  Business Description Pitchers Average Age  \\\n",
              "0                                         Frozen Momos               Middle   \n",
              "1        Renting e-bike for mobility in private spaces                Young   \n",
              "2                                   Detachable Sleeves                Young   \n",
              "3                          Healthy Potato Chips Snacks               Middle   \n",
              "4                             Brain Development Course               Middle   \n",
              "..                                                 ...                  ...   \n",
              "315                                  IoT-enabled bikes               Middle   \n",
              "316                                 Handmade lollipops               Middle   \n",
              "317  ayurveda co for glowing skin, makeup & open pores               Middle   \n",
              "318                                pears and plum wine               Middle   \n",
              "319                               Girls Dresses Online               Middle   \n",
              "\n",
              "    Pitchers City     Pitchers State  ...  Gross Margin  Original Ask Amount  \\\n",
              "0           Delhi              Delhi  ...     53.494118                 50.0   \n",
              "1       Ahmedabad            Gujarat  ...     53.494118                 40.0   \n",
              "2           Delhi              Delhi  ...     53.494118                 25.0   \n",
              "3       Bangalore          Karnataka  ...     48.000000                 70.0   \n",
              "4         Patiala             Punjab  ...     53.494118                 50.0   \n",
              "..            ...                ...  ...           ...                  ...   \n",
              "315     Ahmedabad            Gujarat  ...     53.494118                200.0   \n",
              "316     Bangalore          Karnataka  ...     53.494118                 90.0   \n",
              "317        Mumbai        Maharashtra  ...     53.494118                150.0   \n",
              "318          Ziro  Arunachal Pradesh  ...     50.000000                 75.0   \n",
              "319         Delhi              Delhi  ...     53.494118                 80.0   \n",
              "\n",
              "     Original Offered Equity  Valuation Requested  Received Offer  \\\n",
              "0                        5.0               1000.0               1   \n",
              "1                       15.0                267.0               1   \n",
              "2                       10.0                250.0               1   \n",
              "3                        1.0               7000.0               1   \n",
              "4                        5.0               1000.0               0   \n",
              "..                       ...                  ...             ...   \n",
              "315                      1.0              20000.0               0   \n",
              "316                      0.5              18000.0               1   \n",
              "317                      0.5              30000.0               1   \n",
              "318                      2.5               3000.0               1   \n",
              "319                      2.0               4000.0               1   \n",
              "\n",
              "     Accepted Offer  Total Deal Amount  Total Deal Equity  Deal Valuation  \\\n",
              "0          1.000000          75.000000          16.000000      469.000000   \n",
              "1          1.000000          40.000000          50.000000       80.000000   \n",
              "2          1.000000          25.000000          30.000000       83.000000   \n",
              "3          1.000000          70.000000           2.750000     2545.000000   \n",
              "4          0.814815          62.531824          10.169432     1782.786824   \n",
              "..              ...                ...                ...             ...   \n",
              "315        0.814815          62.531824          10.169432     1782.786824   \n",
              "316        0.000000          62.531824          10.169432     1782.786824   \n",
              "317        1.000000          81.000000           1.000000     8100.000000   \n",
              "318        1.000000          50.000000           5.000000     1000.000000   \n",
              "319        1.000000          80.000000          10.000000      800.000000   \n",
              "\n",
              "     Number of sharks in deal  \n",
              "0                    3.000000  \n",
              "1                    2.000000  \n",
              "2                    2.000000  \n",
              "3                    1.000000  \n",
              "4                    2.011364  \n",
              "..                        ...  \n",
              "315                  2.011364  \n",
              "316                  2.011364  \n",
              "317                  2.000000  \n",
              "318                  2.000000  \n",
              "319                  1.000000  \n",
              "\n",
              "[320 rows x 22 columns]"
            ],
            "text/html": [
              "\n",
              "\n",
              "  <div id=\"df-195f8b37-0c61-45a2-844c-fb4eba5b4580\">\n",
              "    <div class=\"colab-df-container\">\n",
              "      <div>\n",
              "<style scoped>\n",
              "    .dataframe tbody tr th:only-of-type {\n",
              "        vertical-align: middle;\n",
              "    }\n",
              "\n",
              "    .dataframe tbody tr th {\n",
              "        vertical-align: top;\n",
              "    }\n",
              "\n",
              "    .dataframe thead th {\n",
              "        text-align: right;\n",
              "    }\n",
              "</style>\n",
              "<table border=\"1\" class=\"dataframe\">\n",
              "  <thead>\n",
              "    <tr style=\"text-align: right;\">\n",
              "      <th></th>\n",
              "      <th>Season Number</th>\n",
              "      <th>Episode Number</th>\n",
              "      <th>Episode Title</th>\n",
              "      <th>Pitch Number</th>\n",
              "      <th>Startup Name</th>\n",
              "      <th>Industry</th>\n",
              "      <th>Business Description</th>\n",
              "      <th>Pitchers Average Age</th>\n",
              "      <th>Pitchers City</th>\n",
              "      <th>Pitchers State</th>\n",
              "      <th>...</th>\n",
              "      <th>Gross Margin</th>\n",
              "      <th>Original Ask Amount</th>\n",
              "      <th>Original Offered Equity</th>\n",
              "      <th>Valuation Requested</th>\n",
              "      <th>Received Offer</th>\n",
              "      <th>Accepted Offer</th>\n",
              "      <th>Total Deal Amount</th>\n",
              "      <th>Total Deal Equity</th>\n",
              "      <th>Deal Valuation</th>\n",
              "      <th>Number of sharks in deal</th>\n",
              "    </tr>\n",
              "  </thead>\n",
              "  <tbody>\n",
              "    <tr>\n",
              "      <th>0</th>\n",
              "      <td>1</td>\n",
              "      <td>1</td>\n",
              "      <td>Badlegi Business Ki Tasveer</td>\n",
              "      <td>1</td>\n",
              "      <td>BluePineFoods</td>\n",
              "      <td>Food</td>\n",
              "      <td>Frozen Momos</td>\n",
              "      <td>Middle</td>\n",
              "      <td>Delhi</td>\n",
              "      <td>Delhi</td>\n",
              "      <td>...</td>\n",
              "      <td>53.494118</td>\n",
              "      <td>50.0</td>\n",
              "      <td>5.0</td>\n",
              "      <td>1000.0</td>\n",
              "      <td>1</td>\n",
              "      <td>1.000000</td>\n",
              "      <td>75.000000</td>\n",
              "      <td>16.000000</td>\n",
              "      <td>469.000000</td>\n",
              "      <td>3.000000</td>\n",
              "    </tr>\n",
              "    <tr>\n",
              "      <th>1</th>\n",
              "      <td>1</td>\n",
              "      <td>1</td>\n",
              "      <td>Badlegi Business Ki Tasveer</td>\n",
              "      <td>2</td>\n",
              "      <td>BoozScooters</td>\n",
              "      <td>Vehicles/Electrical Vehicles</td>\n",
              "      <td>Renting e-bike for mobility in private spaces</td>\n",
              "      <td>Young</td>\n",
              "      <td>Ahmedabad</td>\n",
              "      <td>Gujarat</td>\n",
              "      <td>...</td>\n",
              "      <td>53.494118</td>\n",
              "      <td>40.0</td>\n",
              "      <td>15.0</td>\n",
              "      <td>267.0</td>\n",
              "      <td>1</td>\n",
              "      <td>1.000000</td>\n",
              "      <td>40.000000</td>\n",
              "      <td>50.000000</td>\n",
              "      <td>80.000000</td>\n",
              "      <td>2.000000</td>\n",
              "    </tr>\n",
              "    <tr>\n",
              "      <th>2</th>\n",
              "      <td>1</td>\n",
              "      <td>1</td>\n",
              "      <td>Badlegi Business Ki Tasveer</td>\n",
              "      <td>3</td>\n",
              "      <td>HeartUpMySleeves</td>\n",
              "      <td>Beauty/Fashion</td>\n",
              "      <td>Detachable Sleeves</td>\n",
              "      <td>Young</td>\n",
              "      <td>Delhi</td>\n",
              "      <td>Delhi</td>\n",
              "      <td>...</td>\n",
              "      <td>53.494118</td>\n",
              "      <td>25.0</td>\n",
              "      <td>10.0</td>\n",
              "      <td>250.0</td>\n",
              "      <td>1</td>\n",
              "      <td>1.000000</td>\n",
              "      <td>25.000000</td>\n",
              "      <td>30.000000</td>\n",
              "      <td>83.000000</td>\n",
              "      <td>2.000000</td>\n",
              "    </tr>\n",
              "    <tr>\n",
              "      <th>3</th>\n",
              "      <td>1</td>\n",
              "      <td>2</td>\n",
              "      <td>Insaan, Ideas Aur Sapne</td>\n",
              "      <td>4</td>\n",
              "      <td>TagzFoods</td>\n",
              "      <td>Food</td>\n",
              "      <td>Healthy Potato Chips Snacks</td>\n",
              "      <td>Middle</td>\n",
              "      <td>Bangalore</td>\n",
              "      <td>Karnataka</td>\n",
              "      <td>...</td>\n",
              "      <td>48.000000</td>\n",
              "      <td>70.0</td>\n",
              "      <td>1.0</td>\n",
              "      <td>7000.0</td>\n",
              "      <td>1</td>\n",
              "      <td>1.000000</td>\n",
              "      <td>70.000000</td>\n",
              "      <td>2.750000</td>\n",
              "      <td>2545.000000</td>\n",
              "      <td>1.000000</td>\n",
              "    </tr>\n",
              "    <tr>\n",
              "      <th>4</th>\n",
              "      <td>1</td>\n",
              "      <td>2</td>\n",
              "      <td>Insaan, Ideas Aur Sapne</td>\n",
              "      <td>5</td>\n",
              "      <td>HeadAndHeart</td>\n",
              "      <td>Education</td>\n",
              "      <td>Brain Development Course</td>\n",
              "      <td>Middle</td>\n",
              "      <td>Patiala</td>\n",
              "      <td>Punjab</td>\n",
              "      <td>...</td>\n",
              "      <td>53.494118</td>\n",
              "      <td>50.0</td>\n",
              "      <td>5.0</td>\n",
              "      <td>1000.0</td>\n",
              "      <td>0</td>\n",
              "      <td>0.814815</td>\n",
              "      <td>62.531824</td>\n",
              "      <td>10.169432</td>\n",
              "      <td>1782.786824</td>\n",
              "      <td>2.011364</td>\n",
              "    </tr>\n",
              "    <tr>\n",
              "      <th>...</th>\n",
              "      <td>...</td>\n",
              "      <td>...</td>\n",
              "      <td>...</td>\n",
              "      <td>...</td>\n",
              "      <td>...</td>\n",
              "      <td>...</td>\n",
              "      <td>...</td>\n",
              "      <td>...</td>\n",
              "      <td>...</td>\n",
              "      <td>...</td>\n",
              "      <td>...</td>\n",
              "      <td>...</td>\n",
              "      <td>...</td>\n",
              "      <td>...</td>\n",
              "      <td>...</td>\n",
              "      <td>...</td>\n",
              "      <td>...</td>\n",
              "      <td>...</td>\n",
              "      <td>...</td>\n",
              "      <td>...</td>\n",
              "      <td>...</td>\n",
              "    </tr>\n",
              "    <tr>\n",
              "      <th>315</th>\n",
              "      <td>2</td>\n",
              "      <td>50</td>\n",
              "      <td>Season Finale With The Sharks</td>\n",
              "      <td>316</td>\n",
              "      <td>MYBYK</td>\n",
              "      <td>Vehicles/Electrical Vehicles</td>\n",
              "      <td>IoT-enabled bikes</td>\n",
              "      <td>Middle</td>\n",
              "      <td>Ahmedabad</td>\n",
              "      <td>Gujarat</td>\n",
              "      <td>...</td>\n",
              "      <td>53.494118</td>\n",
              "      <td>200.0</td>\n",
              "      <td>1.0</td>\n",
              "      <td>20000.0</td>\n",
              "      <td>0</td>\n",
              "      <td>0.814815</td>\n",
              "      <td>62.531824</td>\n",
              "      <td>10.169432</td>\n",
              "      <td>1782.786824</td>\n",
              "      <td>2.011364</td>\n",
              "    </tr>\n",
              "    <tr>\n",
              "      <th>316</th>\n",
              "      <td>2</td>\n",
              "      <td>51</td>\n",
              "      <td>Gateway To Shark Tank India</td>\n",
              "      <td>317</td>\n",
              "      <td>GODESi</td>\n",
              "      <td>Food</td>\n",
              "      <td>Handmade lollipops</td>\n",
              "      <td>Middle</td>\n",
              "      <td>Bangalore</td>\n",
              "      <td>Karnataka</td>\n",
              "      <td>...</td>\n",
              "      <td>53.494118</td>\n",
              "      <td>90.0</td>\n",
              "      <td>0.5</td>\n",
              "      <td>18000.0</td>\n",
              "      <td>1</td>\n",
              "      <td>0.000000</td>\n",
              "      <td>62.531824</td>\n",
              "      <td>10.169432</td>\n",
              "      <td>1782.786824</td>\n",
              "      <td>2.011364</td>\n",
              "    </tr>\n",
              "    <tr>\n",
              "      <th>317</th>\n",
              "      <td>2</td>\n",
              "      <td>51</td>\n",
              "      <td>Gateway To Shark Tank India</td>\n",
              "      <td>318</td>\n",
              "      <td>TAC</td>\n",
              "      <td>Beauty/Fashion</td>\n",
              "      <td>ayurveda co for glowing skin, makeup &amp; open pores</td>\n",
              "      <td>Middle</td>\n",
              "      <td>Mumbai</td>\n",
              "      <td>Maharashtra</td>\n",
              "      <td>...</td>\n",
              "      <td>53.494118</td>\n",
              "      <td>150.0</td>\n",
              "      <td>0.5</td>\n",
              "      <td>30000.0</td>\n",
              "      <td>1</td>\n",
              "      <td>1.000000</td>\n",
              "      <td>81.000000</td>\n",
              "      <td>1.000000</td>\n",
              "      <td>8100.000000</td>\n",
              "      <td>2.000000</td>\n",
              "    </tr>\n",
              "    <tr>\n",
              "      <th>318</th>\n",
              "      <td>2</td>\n",
              "      <td>51</td>\n",
              "      <td>Gateway To Shark Tank India</td>\n",
              "      <td>319</td>\n",
              "      <td>Naara-Aaba</td>\n",
              "      <td>Liquor/Beverages</td>\n",
              "      <td>pears and plum wine</td>\n",
              "      <td>Middle</td>\n",
              "      <td>Ziro</td>\n",
              "      <td>Arunachal Pradesh</td>\n",
              "      <td>...</td>\n",
              "      <td>50.000000</td>\n",
              "      <td>75.0</td>\n",
              "      <td>2.5</td>\n",
              "      <td>3000.0</td>\n",
              "      <td>1</td>\n",
              "      <td>1.000000</td>\n",
              "      <td>50.000000</td>\n",
              "      <td>5.000000</td>\n",
              "      <td>1000.000000</td>\n",
              "      <td>2.000000</td>\n",
              "    </tr>\n",
              "    <tr>\n",
              "      <th>319</th>\n",
              "      <td>2</td>\n",
              "      <td>51</td>\n",
              "      <td>Gateway To Shark Tank India</td>\n",
              "      <td>320</td>\n",
              "      <td>StyloBug</td>\n",
              "      <td>Beauty/Fashion</td>\n",
              "      <td>Girls Dresses Online</td>\n",
              "      <td>Middle</td>\n",
              "      <td>Delhi</td>\n",
              "      <td>Delhi</td>\n",
              "      <td>...</td>\n",
              "      <td>53.494118</td>\n",
              "      <td>80.0</td>\n",
              "      <td>2.0</td>\n",
              "      <td>4000.0</td>\n",
              "      <td>1</td>\n",
              "      <td>1.000000</td>\n",
              "      <td>80.000000</td>\n",
              "      <td>10.000000</td>\n",
              "      <td>800.000000</td>\n",
              "      <td>1.000000</td>\n",
              "    </tr>\n",
              "  </tbody>\n",
              "</table>\n",
              "<p>320 rows × 22 columns</p>\n",
              "</div>\n",
              "      <button class=\"colab-df-convert\" onclick=\"convertToInteractive('df-195f8b37-0c61-45a2-844c-fb4eba5b4580')\"\n",
              "              title=\"Convert this dataframe to an interactive table.\"\n",
              "              style=\"display:none;\">\n",
              "\n",
              "  <svg xmlns=\"http://www.w3.org/2000/svg\" height=\"24px\"viewBox=\"0 0 24 24\"\n",
              "       width=\"24px\">\n",
              "    <path d=\"M0 0h24v24H0V0z\" fill=\"none\"/>\n",
              "    <path d=\"M18.56 5.44l.94 2.06.94-2.06 2.06-.94-2.06-.94-.94-2.06-.94 2.06-2.06.94zm-11 1L8.5 8.5l.94-2.06 2.06-.94-2.06-.94L8.5 2.5l-.94 2.06-2.06.94zm10 10l.94 2.06.94-2.06 2.06-.94-2.06-.94-.94-2.06-.94 2.06-2.06.94z\"/><path d=\"M17.41 7.96l-1.37-1.37c-.4-.4-.92-.59-1.43-.59-.52 0-1.04.2-1.43.59L10.3 9.45l-7.72 7.72c-.78.78-.78 2.05 0 2.83L4 21.41c.39.39.9.59 1.41.59.51 0 1.02-.2 1.41-.59l7.78-7.78 2.81-2.81c.8-.78.8-2.07 0-2.86zM5.41 20L4 18.59l7.72-7.72 1.47 1.35L5.41 20z\"/>\n",
              "  </svg>\n",
              "      </button>\n",
              "\n",
              "\n",
              "\n",
              "    <div id=\"df-3bb93610-545a-4821-8a30-78a231840af7\">\n",
              "      <button class=\"colab-df-quickchart\" onclick=\"quickchart('df-3bb93610-545a-4821-8a30-78a231840af7')\"\n",
              "              title=\"Suggest charts.\"\n",
              "              style=\"display:none;\">\n",
              "\n",
              "<svg xmlns=\"http://www.w3.org/2000/svg\" height=\"24px\"viewBox=\"0 0 24 24\"\n",
              "     width=\"24px\">\n",
              "    <g>\n",
              "        <path d=\"M19 3H5c-1.1 0-2 .9-2 2v14c0 1.1.9 2 2 2h14c1.1 0 2-.9 2-2V5c0-1.1-.9-2-2-2zM9 17H7v-7h2v7zm4 0h-2V7h2v10zm4 0h-2v-4h2v4z\"/>\n",
              "    </g>\n",
              "</svg>\n",
              "      </button>\n",
              "    </div>\n",
              "\n",
              "<style>\n",
              "  .colab-df-quickchart {\n",
              "    background-color: #E8F0FE;\n",
              "    border: none;\n",
              "    border-radius: 50%;\n",
              "    cursor: pointer;\n",
              "    display: none;\n",
              "    fill: #1967D2;\n",
              "    height: 32px;\n",
              "    padding: 0 0 0 0;\n",
              "    width: 32px;\n",
              "  }\n",
              "\n",
              "  .colab-df-quickchart:hover {\n",
              "    background-color: #E2EBFA;\n",
              "    box-shadow: 0px 1px 2px rgba(60, 64, 67, 0.3), 0px 1px 3px 1px rgba(60, 64, 67, 0.15);\n",
              "    fill: #174EA6;\n",
              "  }\n",
              "\n",
              "  [theme=dark] .colab-df-quickchart {\n",
              "    background-color: #3B4455;\n",
              "    fill: #D2E3FC;\n",
              "  }\n",
              "\n",
              "  [theme=dark] .colab-df-quickchart:hover {\n",
              "    background-color: #434B5C;\n",
              "    box-shadow: 0px 1px 3px 1px rgba(0, 0, 0, 0.15);\n",
              "    filter: drop-shadow(0px 1px 2px rgba(0, 0, 0, 0.3));\n",
              "    fill: #FFFFFF;\n",
              "  }\n",
              "</style>\n",
              "\n",
              "    <script>\n",
              "      async function quickchart(key) {\n",
              "        const containerElement = document.querySelector('#' + key);\n",
              "        const charts = await google.colab.kernel.invokeFunction(\n",
              "            'suggestCharts', [key], {});\n",
              "      }\n",
              "    </script>\n",
              "\n",
              "      <script>\n",
              "\n",
              "function displayQuickchartButton(domScope) {\n",
              "  let quickchartButtonEl =\n",
              "    domScope.querySelector('#df-3bb93610-545a-4821-8a30-78a231840af7 button.colab-df-quickchart');\n",
              "  quickchartButtonEl.style.display =\n",
              "    google.colab.kernel.accessAllowed ? 'block' : 'none';\n",
              "}\n",
              "\n",
              "        displayQuickchartButton(document);\n",
              "      </script>\n",
              "      <style>\n",
              "    .colab-df-container {\n",
              "      display:flex;\n",
              "      flex-wrap:wrap;\n",
              "      gap: 12px;\n",
              "    }\n",
              "\n",
              "    .colab-df-convert {\n",
              "      background-color: #E8F0FE;\n",
              "      border: none;\n",
              "      border-radius: 50%;\n",
              "      cursor: pointer;\n",
              "      display: none;\n",
              "      fill: #1967D2;\n",
              "      height: 32px;\n",
              "      padding: 0 0 0 0;\n",
              "      width: 32px;\n",
              "    }\n",
              "\n",
              "    .colab-df-convert:hover {\n",
              "      background-color: #E2EBFA;\n",
              "      box-shadow: 0px 1px 2px rgba(60, 64, 67, 0.3), 0px 1px 3px 1px rgba(60, 64, 67, 0.15);\n",
              "      fill: #174EA6;\n",
              "    }\n",
              "\n",
              "    [theme=dark] .colab-df-convert {\n",
              "      background-color: #3B4455;\n",
              "      fill: #D2E3FC;\n",
              "    }\n",
              "\n",
              "    [theme=dark] .colab-df-convert:hover {\n",
              "      background-color: #434B5C;\n",
              "      box-shadow: 0px 1px 3px 1px rgba(0, 0, 0, 0.15);\n",
              "      filter: drop-shadow(0px 1px 2px rgba(0, 0, 0, 0.3));\n",
              "      fill: #FFFFFF;\n",
              "    }\n",
              "  </style>\n",
              "\n",
              "      <script>\n",
              "        const buttonEl =\n",
              "          document.querySelector('#df-195f8b37-0c61-45a2-844c-fb4eba5b4580 button.colab-df-convert');\n",
              "        buttonEl.style.display =\n",
              "          google.colab.kernel.accessAllowed ? 'block' : 'none';\n",
              "\n",
              "        async function convertToInteractive(key) {\n",
              "          const element = document.querySelector('#df-195f8b37-0c61-45a2-844c-fb4eba5b4580');\n",
              "          const dataTable =\n",
              "            await google.colab.kernel.invokeFunction('convertToInteractive',\n",
              "                                                     [key], {});\n",
              "          if (!dataTable) return;\n",
              "\n",
              "          const docLinkHtml = 'Like what you see? Visit the ' +\n",
              "            '<a target=\"_blank\" href=https://colab.research.google.com/notebooks/data_table.ipynb>data table notebook</a>'\n",
              "            + ' to learn more about interactive tables.';\n",
              "          element.innerHTML = '';\n",
              "          dataTable['output_type'] = 'display_data';\n",
              "          await google.colab.output.renderOutput(dataTable, element);\n",
              "          const docLink = document.createElement('div');\n",
              "          docLink.innerHTML = docLinkHtml;\n",
              "          element.appendChild(docLink);\n",
              "        }\n",
              "      </script>\n",
              "    </div>\n",
              "  </div>\n"
            ]
          },
          "metadata": {},
          "execution_count": 144
        }
      ]
    },
    {
      "cell_type": "code",
      "source": [
        "\n",
        "\n",
        "# Select the features (X) and target (y) columns\n",
        "feature_cols = [ 'Yearly Revenue', 'Monthly Sales', 'Gross Margin', 'Original Ask Amount',\n",
        "                'Original Offered Equity', 'Valuation Requested', 'Received Offer', 'Deal Valuation', 'Number of sharks in deal']\n",
        "\n",
        "target_col = 'Accepted Offer'\n",
        "\n",
        "X = data[feature_cols]\n",
        "y = data[target_col]\n",
        "\n",
        "\n"
      ],
      "metadata": {
        "id": "0fZS9bC_Yy7u"
      },
      "execution_count": 145,
      "outputs": []
    },
    {
      "cell_type": "code",
      "source": [
        "# Split the data into training and testing sets\n",
        "X_train, X_test, y_train, y_test = train_test_split(X, y, test_size=0.2, random_state=42)\n"
      ],
      "metadata": {
        "id": "lz1gMHncY0HU"
      },
      "execution_count": 146,
      "outputs": []
    },
    {
      "cell_type": "code",
      "source": [
        "from sklearn.ensemble import RandomForestRegressor\n",
        "# Initialize and train the Random Forest classifier\n",
        "model = RandomForestRegressor()\n",
        "model.fit(X_train, y_train)\n"
      ],
      "metadata": {
        "colab": {
          "base_uri": "https://localhost:8080/",
          "height": 74
        },
        "id": "vyY5t61HZj09",
        "outputId": "2639810f-f456-42a4-99bd-1332fb47fcaf"
      },
      "execution_count": 147,
      "outputs": [
        {
          "output_type": "execute_result",
          "data": {
            "text/plain": [
              "RandomForestRegressor()"
            ],
            "text/html": [
              "<style>#sk-container-id-2 {color: black;background-color: white;}#sk-container-id-2 pre{padding: 0;}#sk-container-id-2 div.sk-toggleable {background-color: white;}#sk-container-id-2 label.sk-toggleable__label {cursor: pointer;display: block;width: 100%;margin-bottom: 0;padding: 0.3em;box-sizing: border-box;text-align: center;}#sk-container-id-2 label.sk-toggleable__label-arrow:before {content: \"▸\";float: left;margin-right: 0.25em;color: #696969;}#sk-container-id-2 label.sk-toggleable__label-arrow:hover:before {color: black;}#sk-container-id-2 div.sk-estimator:hover label.sk-toggleable__label-arrow:before {color: black;}#sk-container-id-2 div.sk-toggleable__content {max-height: 0;max-width: 0;overflow: hidden;text-align: left;background-color: #f0f8ff;}#sk-container-id-2 div.sk-toggleable__content pre {margin: 0.2em;color: black;border-radius: 0.25em;background-color: #f0f8ff;}#sk-container-id-2 input.sk-toggleable__control:checked~div.sk-toggleable__content {max-height: 200px;max-width: 100%;overflow: auto;}#sk-container-id-2 input.sk-toggleable__control:checked~label.sk-toggleable__label-arrow:before {content: \"▾\";}#sk-container-id-2 div.sk-estimator input.sk-toggleable__control:checked~label.sk-toggleable__label {background-color: #d4ebff;}#sk-container-id-2 div.sk-label input.sk-toggleable__control:checked~label.sk-toggleable__label {background-color: #d4ebff;}#sk-container-id-2 input.sk-hidden--visually {border: 0;clip: rect(1px 1px 1px 1px);clip: rect(1px, 1px, 1px, 1px);height: 1px;margin: -1px;overflow: hidden;padding: 0;position: absolute;width: 1px;}#sk-container-id-2 div.sk-estimator {font-family: monospace;background-color: #f0f8ff;border: 1px dotted black;border-radius: 0.25em;box-sizing: border-box;margin-bottom: 0.5em;}#sk-container-id-2 div.sk-estimator:hover {background-color: #d4ebff;}#sk-container-id-2 div.sk-parallel-item::after {content: \"\";width: 100%;border-bottom: 1px solid gray;flex-grow: 1;}#sk-container-id-2 div.sk-label:hover label.sk-toggleable__label {background-color: #d4ebff;}#sk-container-id-2 div.sk-serial::before {content: \"\";position: absolute;border-left: 1px solid gray;box-sizing: border-box;top: 0;bottom: 0;left: 50%;z-index: 0;}#sk-container-id-2 div.sk-serial {display: flex;flex-direction: column;align-items: center;background-color: white;padding-right: 0.2em;padding-left: 0.2em;position: relative;}#sk-container-id-2 div.sk-item {position: relative;z-index: 1;}#sk-container-id-2 div.sk-parallel {display: flex;align-items: stretch;justify-content: center;background-color: white;position: relative;}#sk-container-id-2 div.sk-item::before, #sk-container-id-2 div.sk-parallel-item::before {content: \"\";position: absolute;border-left: 1px solid gray;box-sizing: border-box;top: 0;bottom: 0;left: 50%;z-index: -1;}#sk-container-id-2 div.sk-parallel-item {display: flex;flex-direction: column;z-index: 1;position: relative;background-color: white;}#sk-container-id-2 div.sk-parallel-item:first-child::after {align-self: flex-end;width: 50%;}#sk-container-id-2 div.sk-parallel-item:last-child::after {align-self: flex-start;width: 50%;}#sk-container-id-2 div.sk-parallel-item:only-child::after {width: 0;}#sk-container-id-2 div.sk-dashed-wrapped {border: 1px dashed gray;margin: 0 0.4em 0.5em 0.4em;box-sizing: border-box;padding-bottom: 0.4em;background-color: white;}#sk-container-id-2 div.sk-label label {font-family: monospace;font-weight: bold;display: inline-block;line-height: 1.2em;}#sk-container-id-2 div.sk-label-container {text-align: center;}#sk-container-id-2 div.sk-container {/* jupyter's `normalize.less` sets `[hidden] { display: none; }` but bootstrap.min.css set `[hidden] { display: none !important; }` so we also need the `!important` here to be able to override the default hidden behavior on the sphinx rendered scikit-learn.org. See: https://github.com/scikit-learn/scikit-learn/issues/21755 */display: inline-block !important;position: relative;}#sk-container-id-2 div.sk-text-repr-fallback {display: none;}</style><div id=\"sk-container-id-2\" class=\"sk-top-container\"><div class=\"sk-text-repr-fallback\"><pre>RandomForestRegressor()</pre><b>In a Jupyter environment, please rerun this cell to show the HTML representation or trust the notebook. <br />On GitHub, the HTML representation is unable to render, please try loading this page with nbviewer.org.</b></div><div class=\"sk-container\" hidden><div class=\"sk-item\"><div class=\"sk-estimator sk-toggleable\"><input class=\"sk-toggleable__control sk-hidden--visually\" id=\"sk-estimator-id-2\" type=\"checkbox\" checked><label for=\"sk-estimator-id-2\" class=\"sk-toggleable__label sk-toggleable__label-arrow\">RandomForestRegressor</label><div class=\"sk-toggleable__content\"><pre>RandomForestRegressor()</pre></div></div></div></div></div>"
            ]
          },
          "metadata": {},
          "execution_count": 147
        }
      ]
    },
    {
      "cell_type": "code",
      "source": [
        "# Make predictions on the testing set\n",
        "y_pred = model.predict(X_test)\n",
        "from sklearn.metrics import mean_squared_error\n",
        "# Evaluate the model's performance using mean squared error (MSE)\n",
        "mse = mean_squared_error(y_test, y_pred)\n",
        "print(\"Mean Squared Error:\", mse)"
      ],
      "metadata": {
        "colab": {
          "base_uri": "https://localhost:8080/"
        },
        "id": "BHS_u1f7Zlxq",
        "outputId": "8d3b833b-4f29-4f17-86cc-e87e33a8ff5c"
      },
      "execution_count": 148,
      "outputs": [
        {
          "output_type": "stream",
          "name": "stdout",
          "text": [
            "Mean Squared Error: 2.5998799725653217e-06\n"
          ]
        }
      ]
    },
    {
      "cell_type": "code",
      "source": [
        "# Select the columns for comparison\n",
        "columns_of_interest = ['Yearly Revenue', 'Deal Valuation', ]\n",
        "\n",
        "# Calculate statistical measures\n",
        "statistics = data[columns_of_interest].describe()\n",
        "print(statistics)"
      ],
      "metadata": {
        "colab": {
          "base_uri": "https://localhost:8080/"
        },
        "id": "efOnHxmfZzUq",
        "outputId": "88da8dd0-e657-4eae-cd28-5b4350984630"
      },
      "execution_count": 149,
      "outputs": [
        {
          "output_type": "stream",
          "name": "stdout",
          "text": [
            "       Yearly Revenue  Deal Valuation\n",
            "count      320.000000      320.000000\n",
            "mean       355.947761     1782.786824\n",
            "std        593.326066     2097.544016\n",
            "min         -1.000000        0.000000\n",
            "25%        115.750000      764.423077\n",
            "50%        355.947761     1782.786824\n",
            "75%        355.947761     1782.786824\n",
            "max       7200.000000    25000.000000\n"
          ]
        }
      ]
    },
    {
      "cell_type": "code",
      "source": [
        "from sklearn.tree import DecisionTreeRegressor\n",
        "\n",
        "# Initialize and train the Decision Tree Regression model\n",
        "model = DecisionTreeRegressor()\n",
        "model.fit(X, y)\n",
        "\n",
        "# Make predictions on the testing set or new data\n",
        "y_pred = model.predict(X_test)\n"
      ],
      "metadata": {
        "id": "csHuD_gZeSSy"
      },
      "execution_count": 150,
      "outputs": []
    },
    {
      "cell_type": "code",
      "source": [
        "from sklearn.metrics import mean_squared_error, mean_absolute_error, r2_score\n",
        "\n",
        "# Evaluate performance metrics\n",
        "mse = mean_squared_error(y_test, y_pred)\n",
        "mae = mean_absolute_error(y_test, y_pred)\n",
        "r2 = r2_score(y_test, y_pred)\n",
        "\n",
        "print(\"Mean Squared Error:\", mse)\n",
        "print(\"Mean Absolute Error:\", mae)\n",
        "print(\"R-squared:\", r2)\n"
      ],
      "metadata": {
        "colab": {
          "base_uri": "https://localhost:8080/"
        },
        "id": "0M-j3MoThoo9",
        "outputId": "511f2704-1b0a-4a49-b688-f3c97c2262d3"
      },
      "execution_count": 151,
      "outputs": [
        {
          "output_type": "stream",
          "name": "stdout",
          "text": [
            "Mean Squared Error: 9.14816723583937e-32\n",
            "Mean Absolute Error: 1.6479873021779667e-16\n",
            "R-squared: 1.0\n"
          ]
        }
      ]
    },
    {
      "cell_type": "code",
      "source": [
        "import matplotlib.pyplot as plt\n",
        "\n",
        "# Visualize actual vs predicted values\n",
        "plt.scatter(y_test, y_pred)\n",
        "plt.plot([y_test.min(), y_test.max()], [y_test.min(), y_test.max()], 'k--', lw=2)\n",
        "plt.xlabel('Actual')\n",
        "plt.ylabel('Predicted')\n",
        "plt.title('Actual vs Predicted Values')\n",
        "plt.show()\n"
      ],
      "metadata": {
        "colab": {
          "base_uri": "https://localhost:8080/",
          "height": 472
        },
        "id": "xa7-vG2Qh2X1",
        "outputId": "36baf14d-3017-4dbd-a6bb-fa567eede3c7"
      },
      "execution_count": 152,
      "outputs": [
        {
          "output_type": "display_data",
          "data": {
            "text/plain": [
              "<Figure size 640x480 with 1 Axes>"
            ],
            "image/png": "[encoded data removed]"
          },
          "metadata": {}
        }
      ]
    },
    {
      "cell_type": "code",
      "source": [
        "import seaborn as sns\n",
        "\n",
        "# Create a box plot\n",
        "plt.figure(figsize=(8, 6))\n",
        "sns.boxplot(x='Accepted Offer', y='Monthly Sales', data=data)\n",
        "plt.xlabel('Accepted Offer')\n",
        "plt.ylabel('Monthly Sales')\n",
        "plt.title('Monthly Sales by Accepted Offer')\n",
        "plt.show()\n"
      ],
      "metadata": {
        "colab": {
          "base_uri": "https://localhost:8080/",
          "height": 564
        },
        "id": "B9VjhNW0h8SK",
        "outputId": "88003f68-e4cb-4e23-ed73-eb8fadac637b"
      },
      "execution_count": 153,
      "outputs": [
        {
          "output_type": "display_data",
          "data": {
            "text/plain": [
              "<Figure size 800x600 with 1 Axes>"
            ],
            "image/png": "[encoded data removed]"
          },
          "metadata": {}
        }
      ]
    },
    {
      "cell_type": "code",
      "source": [
        "# Create a histogram\n",
        "plt.figure(figsize=(8, 6))\n",
        "plt.hist(data['Pitchers Average Age'], bins=10)\n",
        "plt.xlabel('Pitchers Average Age')\n",
        "plt.ylabel('Frequency')\n",
        "plt.title('Distribution of Pitchers Average Age')\n",
        "plt.show()\n"
      ],
      "metadata": {
        "colab": {
          "base_uri": "https://localhost:8080/",
          "height": 564
        },
        "id": "r1c_bn11ie_d",
        "outputId": "492cc6ae-dc8f-4ce3-cbb3-35472b3fac95"
      },
      "execution_count": 154,
      "outputs": [
        {
          "output_type": "display_data",
          "data": {
            "text/plain": [
              "<Figure size 800x600 with 1 Axes>"
            ],
            "image/png": "[encoded data removed]"
          },
          "metadata": {}
        }
      ]
    },
    {
      "cell_type": "code",
      "source": [
        "from sklearn.linear_model import LogisticRegression\n",
        "from sklearn.metrics import accuracy_score\n"
      ],
      "metadata": {
        "id": "fNGI9azZihqP"
      },
      "execution_count": 155,
      "outputs": []
    },
    {
      "cell_type": "code",
      "source": [
        "\n",
        "# Split the data into training and testing sets\n",
        "X_train, X_test, y_train, y_test = train_test_split(X, y, test_size=0.2, random_state=42)\n",
        "\n",
        "# Initialize and train the linear regression model\n",
        "model = LinearRegression()\n",
        "model.fit(X_train, y_train)\n",
        "\n",
        "# Make predictions on the testing set\n",
        "y_pred = model.predict(X_test)\n",
        "\n",
        "# Evaluate the model's performance using mean squared error (MSE)\n",
        "mse = mean_squared_error(y_test, y_pred)\n",
        "print(\"Mean Squared Error:\", mse)\n",
        "print(y_pred)"
      ],
      "metadata": {
        "colab": {
          "base_uri": "https://localhost:8080/"
        },
        "id": "QlhKs3DiykJ8",
        "outputId": "867bfb09-051a-47f7-9da7-557132498193"
      },
      "execution_count": 160,
      "outputs": [
        {
          "output_type": "stream",
          "name": "stdout",
          "text": [
            "Mean Squared Error: 0.0759474508424104\n",
            "[0.81676268 0.91475493 0.82111387 0.83033516 0.87914075 0.80083725\n",
            " 0.86878528 0.83194329 0.71543766 0.81541007 0.7753698  0.85639841\n",
            " 0.82728729 0.84402403 0.78459673 0.6788228  0.81288283 0.8229233\n",
            " 0.83909514 0.80447428 0.86392568 0.82626372 0.81660193 0.82874554\n",
            " 0.82864486 0.87504581 0.8096821  0.97764203 0.66793109 0.8117443\n",
            " 0.83731989 0.82940563 0.73881273 0.78873771 0.81566276 0.85530763\n",
            " 0.80758304 0.73884986 0.81337209 0.79925876 0.81409266 0.73352699\n",
            " 0.82933651 0.80643355 0.82670599 0.78696716 0.78092286 0.81005426\n",
            " 0.75321767 0.80649022 0.8112328  0.83105024 0.80058484 0.91203863\n",
            " 0.76369136 0.8345476  0.8135854  0.75266519 0.80684891 0.7619107\n",
            " 0.7669808  0.87083287 0.80181905 0.79901975]\n"
          ]
        }
      ]
    },
    {
      "cell_type": "code",
      "source": [
        "import seaborn as sns\n",
        "\n",
        "# Create a box plot\n",
        "plt.figure(figsize=(10, 6))\n",
        "sns.boxplot(x='Industry', y='Monthly Sales', data=data)\n",
        "plt.xlabel('Industry')\n",
        "plt.ylabel('Monthly Sales')\n",
        "plt.title('Monthly Sales by Industry')\n",
        "plt.xticks(rotation=45)\n",
        "plt.show()\n"
      ],
      "metadata": {
        "colab": {
          "base_uri": "https://localhost:8080/",
          "height": 692
        },
        "id": "svMS7zsXyn5Z",
        "outputId": "b0fd0d27-7316-41f2-c1ce-6db1848dcb0e"
      },
      "execution_count": 161,
      "outputs": [
        {
          "output_type": "display_data",
          "data": {
            "text/plain": [
              "<Figure size 1000x600 with 1 Axes>"
            ],
            "image/png": "[encoded data removed]"
          },
          "metadata": {}
        }
      ]
    },
    {
      "cell_type": "code",
      "source": [
        "# Create a scatter plot\n",
        "plt.figure(figsize=(8, 6))\n",
        "plt.scatter(data['Monthly Sales'], data['Deal Valuation'])\n",
        "plt.xlabel('Monthly Sales')\n",
        "plt.ylabel('Deal Valuation')\n",
        "plt.title('Monthly Sales vs. Deal Valuation')\n",
        "plt.show()\n"
      ],
      "metadata": {
        "colab": {
          "base_uri": "https://localhost:8080/",
          "height": 564
        },
        "id": "FLMA9ultzd-f",
        "outputId": "6286affd-07b4-4727-a3b4-ba81e3c1c893"
      },
      "execution_count": 162,
      "outputs": [
        {
          "output_type": "display_data",
          "data": {
            "text/plain": [
              "<Figure size 800x600 with 1 Axes>"
            ],
            "image/png": "[encoded data removed]"
          },
          "metadata": {}
        }
      ]
    },
    {
      "cell_type": "code",
      "source": [],
      "metadata": {
        "id": "JnbVM4q3zrwX"
      },
      "execution_count": null,
      "outputs": []
    }
  ]
}